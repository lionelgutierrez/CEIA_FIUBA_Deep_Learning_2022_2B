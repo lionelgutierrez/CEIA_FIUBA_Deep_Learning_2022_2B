{
 "cells": [
  {
   "cell_type": "code",
   "execution_count": 106,
   "metadata": {},
   "outputs": [],
   "source": [
    "import numpy as np\n",
    "import math\n",
    "import matplotlib.pyplot as plt"
   ]
  },
  {
   "cell_type": "code",
   "execution_count": 107,
   "metadata": {},
   "outputs": [],
   "source": [
    "class SGD:\n",
    "    \n",
    "    def inicializar_param(self):\n",
    "        #return 1 / self.n_params#np.random.RandomState(self.random_seed).uniform(low=0.0, high=1.0)\n",
    "        return np.random.uniform(low=-10.0, high=10.0)\n",
    "    \n",
    "    @staticmethod\n",
    "    def sigmoid(x):\n",
    "        return 1 / (1 + math.exp(-x))\n",
    "\n",
    "    def __init__(self):\n",
    "        self.n_params = 3\n",
    "        self.W = np.empty([self.n_params, 1], dtype=float)\n",
    "        self.grad_W = np.empty([self.n_params, 1], dtype=float)\n",
    "        self.lista_mse = []\n",
    "        self.tip_y_hat =None\n",
    "        \n",
    "    def inicializar_parametros(self):\n",
    "        #Inicializo todos mis parametros y los guardo en un vector con el orden:\n",
    "        #   w1,w1,w3\n",
    "        self.W = np.array([self.inicializar_param() for i in range(0,self.n_params)])\n",
    "\n",
    "    def fit(self,X,y,epochs=100,lr=0.1):\n",
    "        n = X.shape[0]\n",
    "        self.tip_y_hat = y.dtype\n",
    "        y_hat = np.empty(y.shape, dtype=float)\n",
    "        self.inicializar_parametros()\n",
    "        self.lista_mse = []\n",
    "        for ep in range(epochs):\n",
    "            for i in range(n):\n",
    "                #1- Calculo el forward\n",
    "                y_hat[i] = (X[i]**2)*self.W[0] + X[i]*self.W[1] + self.W[2] \n",
    "                #2- Calculo el error\n",
    "                erri = y[i] - y_hat[i] \n",
    "                termi = -2*erri\n",
    "                #3 backpropagation\n",
    "                self.grad_W = np.array([(X[i]**2)*termi,X[i]*termi,termi])\n",
    "                #4 Actualizo los pesos\n",
    "                self.W = self.W  - lr* self.grad_W \n",
    "                \n",
    "            mse = np.sum((y-y_hat)**2) / y.size\n",
    "            self.lista_mse.append(mse)\n",
    "        \n",
    "    def predict(self,X):\n",
    "        n = X.shape[0]\n",
    "        y_hat = np.empty((n,1), dtype=self.tip_y_hat)\n",
    "        #y_hat = np.empty((n,1), dtype=float)\n",
    "        for i in range(n):\n",
    "            #1- Calculo el forward\n",
    "            y_hat[i] = (X[i]**2)*self.W[0] + X[i]*self.W[1] + self.W[2]\n",
    "        return y_hat            "
   ]
  },
  {
   "cell_type": "code",
   "execution_count": 108,
   "metadata": {},
   "outputs": [],
   "source": [
    "class SyntheticDataset(object):\n",
    "    \n",
    "    lim_inf_x = 0\n",
    "    lim_sup_x = 4\n",
    "    \n",
    "    @staticmethod\n",
    "    def __funcion(x):\n",
    "        return (-(x-2)**2) + 3 + (0.2 * np.sin(16*x))\n",
    "    \n",
    "    def __init__(self, num_muestras=100):\n",
    "        self.X = np.linspace(SyntheticDataset.lim_inf_x,SyntheticDataset.lim_sup_x,num_muestras)\n",
    "        self.y = SyntheticDataset.__funcion(self.X)\n",
    "        \n",
    "        "
   ]
  },
  {
   "cell_type": "code",
   "execution_count": 109,
   "metadata": {},
   "outputs": [],
   "source": [
    "DS = SyntheticDataset(100)"
   ]
  },
  {
   "cell_type": "code",
   "execution_count": 110,
   "metadata": {},
   "outputs": [],
   "source": [
    "#DS.X"
   ]
  },
  {
   "cell_type": "code",
   "execution_count": 111,
   "metadata": {},
   "outputs": [],
   "source": [
    "#DS.y"
   ]
  },
  {
   "cell_type": "code",
   "execution_count": 112,
   "metadata": {},
   "outputs": [
    {
     "data": {
      "image/png": "[encoded data removed]",
      "text/plain": [
       "<Figure size 720x504 with 1 Axes>"
      ]
     },
     "metadata": {
      "needs_background": "light"
     },
     "output_type": "display_data"
    }
   ],
   "source": [
    "plt.figure(figsize=(10,7))\n",
    "plt.scatter(DS.X,DS.y)\n",
    "plt.xlabel('X')\n",
    "plt.ylabel('y')\n",
    "#plt.legend((\"MSE vs N° epochs\",leyenda_mse))\n",
    "plt.title(\"y = (-(x-2)**2) + 3 + (0.2 * np.sin(16*x))\")\n",
    "\n",
    "\n",
    "plt.show();"
   ]
  },
  {
   "cell_type": "code",
   "execution_count": 113,
   "metadata": {},
   "outputs": [],
   "source": [
    "sgd = SGD()"
   ]
  },
  {
   "cell_type": "code",
   "execution_count": 114,
   "metadata": {},
   "outputs": [
    {
     "name": "stderr",
     "output_type": "stream",
     "text": [
      "<ipython-input-107-b0c36c04a2e6>:41: RuntimeWarning: overflow encountered in square\n",
      "  mse = np.sum((y-y_hat)**2) / y.size\n",
      "<ipython-input-107-b0c36c04a2e6>:37: RuntimeWarning: overflow encountered in double_scalars\n",
      "  self.grad_W = np.array([(X[i]**2)*termi,X[i]*termi,termi])\n",
      "<ipython-input-107-b0c36c04a2e6>:39: RuntimeWarning: invalid value encountered in subtract\n",
      "  self.W = self.W  - lr* self.grad_W\n"
     ]
    }
   ],
   "source": [
    "sgd.fit(DS.X,DS.y,epochs=3,lr=0.5)"
   ]
  },
  {
   "cell_type": "code",
   "execution_count": 115,
   "metadata": {},
   "outputs": [
    {
     "data": {
      "text/plain": [
       "[2.8142873941154407e+208, inf, nan]"
      ]
     },
     "execution_count": 115,
     "metadata": {},
     "output_type": "execute_result"
    }
   ],
   "source": [
    "sgd.lista_mse"
   ]
  },
  {
   "cell_type": "code",
   "execution_count": 116,
   "metadata": {},
   "outputs": [
    {
     "data": {
      "text/plain": [
       "array([nan, nan, nan])"
      ]
     },
     "execution_count": 116,
     "metadata": {},
     "output_type": "execute_result"
    }
   ],
   "source": [
    "sgd.W"
   ]
  },
  {
   "cell_type": "code",
   "execution_count": 117,
   "metadata": {},
   "outputs": [
    {
     "data": {
      "text/plain": [
       "array([nan, nan, nan])"
      ]
     },
     "execution_count": 117,
     "metadata": {},
     "output_type": "execute_result"
    }
   ],
   "source": [
    "sgd.grad_W"
   ]
  },
  {
   "cell_type": "code",
   "execution_count": null,
   "metadata": {},
   "outputs": [],
   "source": []
  }
 ],
 "metadata": {
  "kernelspec": {
   "display_name": "Python 3",
   "language": "python",
   "name": "python3"
  },
  "language_info": {
   "codemirror_mode": {
    "name": "ipython",
    "version": 3
   },
   "file_extension": ".py",
   "mimetype": "text/x-python",
   "name": "python",
   "nbconvert_exporter": "python",
   "pygments_lexer": "ipython3",
   "version": "3.8.3"
  }
 },
 "nbformat": 4,
 "nbformat_minor": 4
}
