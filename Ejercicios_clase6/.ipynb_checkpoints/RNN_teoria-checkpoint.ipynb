{
  "nbformat": 4,
  "nbformat_minor": 0,
  "metadata": {
    "colab": {
      "name": "RNN_teoria.ipynb",
      "provenance": [],
      "collapsed_sections": []
    },
    "kernelspec": {
      "name": "python3",
      "display_name": "Python 3"
    },
    "language_info": {
      "name": "python"
    }
  },
  "cells": [
    {
      "cell_type": "markdown",
      "source": [
        "## Link a documentacion RNN de Pytorch, librerias y funciones a utilizar."
      ],
      "metadata": {
        "id": "x7qq56pInI3S"
      }
    },
    {
      "cell_type": "markdown",
      "source": [
        "https://pytorch.org/docs/stable/generated/torch.nn.RNN.html#torch.nn.RNN"
      ],
      "metadata": {
        "id": "LicepBoojbfX"
      }
    },
    {
      "cell_type": "code",
      "execution_count": 1,
      "metadata": {
        "id": "ZA_Tw-UvUbl2"
      },
      "outputs": [],
      "source": [
        "# Librerias\n",
        "import numpy as np\n",
        "import torch\n"
      ]
    },
    {
      "cell_type": "code",
      "source": [
        "class SimpleRNN(torch.nn.Module):\n",
        "  def __init__(self, input_size=1, hidden_size=1, num_layers=1):\n",
        "    super().__init__()\n",
        "    self.rnn = torch.nn.RNN(input_size, hidden_size, num_layers, batch_first=True)\n",
        "\n",
        "  def forward(self, x):\n",
        "    x, h = self.rnn(x) \n",
        "    return x, h\n"
      ],
      "metadata": {
        "id": "usXhWlN9UjCY"
      },
      "execution_count": 2,
      "outputs": []
    },
    {
      "cell_type": "code",
      "source": [
        "def imp_param(model):\n",
        "  print('-'*84)\n",
        "  print('PARAMETROS DEL MODELO')\n",
        "  print('-'*84)\n",
        "  for name, param in model.named_parameters():\n",
        "    if param.requires_grad: \n",
        "      print('Nombre del parámetro: ')\n",
        "      print(name)\n",
        "      print('Tamaño del parámetro: ')\n",
        "      print(param.data.shape)\n",
        "      print()\n"
      ],
      "metadata": {
        "id": "PEWsdE8lcPoc"
      },
      "execution_count": 3,
      "outputs": []
    },
    {
      "cell_type": "code",
      "source": [
        "def teoria(model, largo_entrada = 3):\n",
        "  print('-'*84)\n",
        "  print('MODELO')\n",
        "  print('-'*84)\n",
        "  print(model)\n",
        "  imp_param(model)\n",
        "\n",
        "  # Generamos una entrada aleatoria para ver como responde la red\n",
        "  # el tamaño de la entrada esa acorde a los tamaños que cargamos antes\n",
        "  entrada = torch.rand(largo_entrada, input_size)\n",
        "  print('-'*84)\n",
        "  print('ENTRADA')\n",
        "  print('-'*84)\n",
        "  print('entrada shape: ', entrada.shape)\n",
        "  print(entrada)\n",
        "  # le agrego la dimension del batch:\n",
        "  entrada = entrada[None, :]\n",
        "  print()\n",
        "  print('entrada con nuevas dimensiones [batch, Length, nr_features] ')\n",
        "  print(entrada.shape)\n",
        "\n",
        "  # Pasamos la entrada a la red\n",
        "  o, h = model(entrada)\n",
        "  print('-'*84)\n",
        "  print('SALIDA')\n",
        "  print('-'*84)\n",
        "  print('salida de la red (largo igual al input): ', o.shape)\n",
        "  print(o)\n",
        "  print()\n",
        "  print('hidden red (solo ultimo hidden): ', h.shape)\n",
        "  print(h)\n",
        "\n",
        "\n"
      ],
      "metadata": {
        "id": "QWPRcKHCe4BG"
      },
      "execution_count": 4,
      "outputs": []
    },
    {
      "cell_type": "markdown",
      "source": [
        "### RNN simple"
      ],
      "metadata": {
        "id": "Hh7gbMkEfZgP"
      }
    },
    {
      "cell_type": "code",
      "source": [
        "input_size= 1\n",
        "hidden_size= 1\n",
        "num_layers= 1\n",
        "largo_entrada =  5\n",
        "\n",
        "model = SimpleRNN(input_size, hidden_size, num_layers)\n",
        "teoria(model, largo_entrada)"
      ],
      "metadata": {
        "id": "Sg-kGODFgeEO",
        "colab": {
          "base_uri": "https://localhost:8080/"
        },
        "outputId": "06e638cf-6a30-49e8-b175-deeba94e2e6b"
      },
      "execution_count": 5,
      "outputs": [
        {
          "output_type": "stream",
          "name": "stdout",
          "text": [
            "------------------------------------------------------------------------------------\n",
            "MODELO\n",
            "------------------------------------------------------------------------------------\n",
            "SimpleRNN(\n",
            "  (rnn): RNN(1, 1, batch_first=True)\n",
            ")\n",
            "------------------------------------------------------------------------------------\n",
            "PARAMETROS DEL MODELO\n",
            "------------------------------------------------------------------------------------\n",
            "Nombre del parámetro: \n",
            "rnn.weight_ih_l0\n",
            "Tamaño del parámetro: \n",
            "torch.Size([1, 1])\n",
            "\n",
            "Nombre del parámetro: \n",
            "rnn.weight_hh_l0\n",
            "Tamaño del parámetro: \n",
            "torch.Size([1, 1])\n",
            "\n",
            "Nombre del parámetro: \n",
            "rnn.bias_ih_l0\n",
            "Tamaño del parámetro: \n",
            "torch.Size([1])\n",
            "\n",
            "Nombre del parámetro: \n",
            "rnn.bias_hh_l0\n",
            "Tamaño del parámetro: \n",
            "torch.Size([1])\n",
            "\n",
            "------------------------------------------------------------------------------------\n",
            "ENTRADA\n",
            "------------------------------------------------------------------------------------\n",
            "entrada shape:  torch.Size([5, 1])\n",
            "tensor([[0.4072],\n",
            "        [0.9484],\n",
            "        [0.5901],\n",
            "        [0.3898],\n",
            "        [0.0670]])\n",
            "\n",
            "entrada con nuevas dimensiones [batch, Length, nr_features] \n",
            "torch.Size([1, 5, 1])\n",
            "------------------------------------------------------------------------------------\n",
            "SALIDA\n",
            "------------------------------------------------------------------------------------\n",
            "salida de la red (largo igual al input):  torch.Size([1, 5, 1])\n",
            "tensor([[[-0.2316],\n",
            "         [-0.4963],\n",
            "         [-0.4570],\n",
            "         [-0.3768],\n",
            "         [-0.2295]]], grad_fn=<TransposeBackward1>)\n",
            "\n",
            "hidden red (solo ultimo hidden):  torch.Size([1, 1, 1])\n",
            "tensor([[[-0.2295]]], grad_fn=<StackBackward0>)\n"
          ]
        }
      ]
    },
    {
      "cell_type": "markdown",
      "source": [
        "### RNN con hidden"
      ],
      "metadata": {
        "id": "bK740Reuchot"
      }
    },
    {
      "cell_type": "code",
      "source": [
        "input_size= 1\n",
        "hidden_size= 3\n",
        "num_layers= 1\n",
        "largo_entrada = 5\n",
        "\n",
        "model = SimpleRNN(input_size, hidden_size, num_layers)\n",
        "teoria(model, largo_entrada)"
      ],
      "metadata": {
        "id": "s631JZLAaYxt",
        "colab": {
          "base_uri": "https://localhost:8080/"
        },
        "outputId": "065e87ee-e1a3-4240-ef8f-71b563a67c67"
      },
      "execution_count": 6,
      "outputs": [
        {
          "output_type": "stream",
          "name": "stdout",
          "text": [
            "------------------------------------------------------------------------------------\n",
            "MODELO\n",
            "------------------------------------------------------------------------------------\n",
            "SimpleRNN(\n",
            "  (rnn): RNN(1, 3, batch_first=True)\n",
            ")\n",
            "------------------------------------------------------------------------------------\n",
            "PARAMETROS DEL MODELO\n",
            "------------------------------------------------------------------------------------\n",
            "Nombre del parámetro: \n",
            "rnn.weight_ih_l0\n",
            "Tamaño del parámetro: \n",
            "torch.Size([3, 1])\n",
            "\n",
            "Nombre del parámetro: \n",
            "rnn.weight_hh_l0\n",
            "Tamaño del parámetro: \n",
            "torch.Size([3, 3])\n",
            "\n",
            "Nombre del parámetro: \n",
            "rnn.bias_ih_l0\n",
            "Tamaño del parámetro: \n",
            "torch.Size([3])\n",
            "\n",
            "Nombre del parámetro: \n",
            "rnn.bias_hh_l0\n",
            "Tamaño del parámetro: \n",
            "torch.Size([3])\n",
            "\n",
            "------------------------------------------------------------------------------------\n",
            "ENTRADA\n",
            "------------------------------------------------------------------------------------\n",
            "entrada shape:  torch.Size([5, 1])\n",
            "tensor([[0.4153],\n",
            "        [0.3392],\n",
            "        [0.7672],\n",
            "        [0.1321],\n",
            "        [0.4336]])\n",
            "\n",
            "entrada con nuevas dimensiones [batch, Length, nr_features] \n",
            "torch.Size([1, 5, 1])\n",
            "------------------------------------------------------------------------------------\n",
            "SALIDA\n",
            "------------------------------------------------------------------------------------\n",
            "salida de la red (largo igual al input):  torch.Size([1, 5, 3])\n",
            "tensor([[[-0.5613,  0.4254,  0.0679],\n",
            "         [-0.7447,  0.4146, -0.0871],\n",
            "         [-0.8342,  0.4906, -0.3143],\n",
            "         [-0.7345,  0.5447, -0.0651],\n",
            "         [-0.7985,  0.4627, -0.1652]]], grad_fn=<TransposeBackward1>)\n",
            "\n",
            "hidden red (solo ultimo hidden):  torch.Size([1, 1, 3])\n",
            "tensor([[[-0.7985,  0.4627, -0.1652]]], grad_fn=<StackBackward0>)\n"
          ]
        }
      ]
    },
    {
      "cell_type": "markdown",
      "source": [
        "### RNN con 2 layers"
      ],
      "metadata": {
        "id": "wZs3wrXFgmNj"
      }
    },
    {
      "cell_type": "code",
      "source": [
        "input_size= 1\n",
        "hidden_size= 1\n",
        "num_layers= 2\n",
        "largo_entrada = 5\n",
        "\n",
        "model = SimpleRNN(input_size, hidden_size, num_layers)\n",
        "teoria(model, largo_entrada)"
      ],
      "metadata": {
        "id": "3_gNjjocgmNo",
        "colab": {
          "base_uri": "https://localhost:8080/"
        },
        "outputId": "f740d53d-f018-48f5-a881-e16296999f8e"
      },
      "execution_count": 7,
      "outputs": [
        {
          "output_type": "stream",
          "name": "stdout",
          "text": [
            "------------------------------------------------------------------------------------\n",
            "MODELO\n",
            "------------------------------------------------------------------------------------\n",
            "SimpleRNN(\n",
            "  (rnn): RNN(1, 1, num_layers=2, batch_first=True)\n",
            ")\n",
            "------------------------------------------------------------------------------------\n",
            "PARAMETROS DEL MODELO\n",
            "------------------------------------------------------------------------------------\n",
            "Nombre del parámetro: \n",
            "rnn.weight_ih_l0\n",
            "Tamaño del parámetro: \n",
            "torch.Size([1, 1])\n",
            "\n",
            "Nombre del parámetro: \n",
            "rnn.weight_hh_l0\n",
            "Tamaño del parámetro: \n",
            "torch.Size([1, 1])\n",
            "\n",
            "Nombre del parámetro: \n",
            "rnn.bias_ih_l0\n",
            "Tamaño del parámetro: \n",
            "torch.Size([1])\n",
            "\n",
            "Nombre del parámetro: \n",
            "rnn.bias_hh_l0\n",
            "Tamaño del parámetro: \n",
            "torch.Size([1])\n",
            "\n",
            "Nombre del parámetro: \n",
            "rnn.weight_ih_l1\n",
            "Tamaño del parámetro: \n",
            "torch.Size([1, 1])\n",
            "\n",
            "Nombre del parámetro: \n",
            "rnn.weight_hh_l1\n",
            "Tamaño del parámetro: \n",
            "torch.Size([1, 1])\n",
            "\n",
            "Nombre del parámetro: \n",
            "rnn.bias_ih_l1\n",
            "Tamaño del parámetro: \n",
            "torch.Size([1])\n",
            "\n",
            "Nombre del parámetro: \n",
            "rnn.bias_hh_l1\n",
            "Tamaño del parámetro: \n",
            "torch.Size([1])\n",
            "\n",
            "------------------------------------------------------------------------------------\n",
            "ENTRADA\n",
            "------------------------------------------------------------------------------------\n",
            "entrada shape:  torch.Size([5, 1])\n",
            "tensor([[0.2786],\n",
            "        [0.0639],\n",
            "        [0.3787],\n",
            "        [0.9115],\n",
            "        [0.4945]])\n",
            "\n",
            "entrada con nuevas dimensiones [batch, Length, nr_features] \n",
            "torch.Size([1, 5, 1])\n",
            "------------------------------------------------------------------------------------\n",
            "SALIDA\n",
            "------------------------------------------------------------------------------------\n",
            "salida de la red (largo igual al input):  torch.Size([1, 5, 1])\n",
            "tensor([[[-0.4795],\n",
            "         [-0.5367],\n",
            "         [-0.5104],\n",
            "         [-0.5199],\n",
            "         [-0.5156]]], grad_fn=<TransposeBackward1>)\n",
            "\n",
            "hidden red (solo ultimo hidden):  torch.Size([2, 1, 1])\n",
            "tensor([[[-0.7920]],\n",
            "\n",
            "        [[-0.5156]]], grad_fn=<StackBackward0>)\n"
          ]
        }
      ]
    },
    {
      "cell_type": "markdown",
      "source": [
        "### RNN con input mutivariable"
      ],
      "metadata": {
        "id": "4Na94A7Qhoit"
      }
    },
    {
      "cell_type": "code",
      "source": [
        "input_size= 3\n",
        "hidden_size=  1\n",
        "num_layers= 1\n",
        "largo_entrada =  5\n",
        "\n",
        "model = SimpleRNN(input_size, hidden_size, num_layers)\n",
        "teoria(model, largo_entrada)"
      ],
      "metadata": {
        "id": "dvl8MJfKhoiz",
        "colab": {
          "base_uri": "https://localhost:8080/"
        },
        "outputId": "39fb1a9d-37b0-4f33-ac64-d384a1c568d4"
      },
      "execution_count": 8,
      "outputs": [
        {
          "output_type": "stream",
          "name": "stdout",
          "text": [
            "------------------------------------------------------------------------------------\n",
            "MODELO\n",
            "------------------------------------------------------------------------------------\n",
            "SimpleRNN(\n",
            "  (rnn): RNN(3, 1, batch_first=True)\n",
            ")\n",
            "------------------------------------------------------------------------------------\n",
            "PARAMETROS DEL MODELO\n",
            "------------------------------------------------------------------------------------\n",
            "Nombre del parámetro: \n",
            "rnn.weight_ih_l0\n",
            "Tamaño del parámetro: \n",
            "torch.Size([1, 3])\n",
            "\n",
            "Nombre del parámetro: \n",
            "rnn.weight_hh_l0\n",
            "Tamaño del parámetro: \n",
            "torch.Size([1, 1])\n",
            "\n",
            "Nombre del parámetro: \n",
            "rnn.bias_ih_l0\n",
            "Tamaño del parámetro: \n",
            "torch.Size([1])\n",
            "\n",
            "Nombre del parámetro: \n",
            "rnn.bias_hh_l0\n",
            "Tamaño del parámetro: \n",
            "torch.Size([1])\n",
            "\n",
            "------------------------------------------------------------------------------------\n",
            "ENTRADA\n",
            "------------------------------------------------------------------------------------\n",
            "entrada shape:  torch.Size([5, 3])\n",
            "tensor([[0.7200, 0.4654, 0.3217],\n",
            "        [0.1107, 0.2831, 0.3695],\n",
            "        [0.6455, 0.6758, 0.5059],\n",
            "        [0.6045, 0.7735, 0.6906],\n",
            "        [0.0184, 0.1552, 0.1022]])\n",
            "\n",
            "entrada con nuevas dimensiones [batch, Length, nr_features] \n",
            "torch.Size([1, 5, 3])\n",
            "------------------------------------------------------------------------------------\n",
            "SALIDA\n",
            "------------------------------------------------------------------------------------\n",
            "salida de la red (largo igual al input):  torch.Size([1, 5, 1])\n",
            "tensor([[[0.5905],\n",
            "         [0.8308],\n",
            "         [0.8082],\n",
            "         [0.8761],\n",
            "         [0.7710]]], grad_fn=<TransposeBackward1>)\n",
            "\n",
            "hidden red (solo ultimo hidden):  torch.Size([1, 1, 1])\n",
            "tensor([[[0.7710]]], grad_fn=<StackBackward0>)\n"
          ]
        }
      ]
    },
    {
      "cell_type": "code",
      "source": [
        ""
      ],
      "metadata": {
        "id": "F7fxlhcjhoi6"
      },
      "execution_count": null,
      "outputs": []
    },
    {
      "cell_type": "markdown",
      "source": [
        "### RNN con varias cosas"
      ],
      "metadata": {
        "id": "mhIvgL2ch24Q"
      }
    },
    {
      "cell_type": "code",
      "source": [
        "input_size= 3\n",
        "hidden_size= 4\n",
        "num_layers= 1\n",
        "largo_entrada = 5\n",
        "\n",
        "model = SimpleRNN(input_size, hidden_size, num_layers)\n",
        "teoria(model, largo_entrada)"
      ],
      "metadata": {
        "id": "8IpqefqHh24X",
        "colab": {
          "base_uri": "https://localhost:8080/"
        },
        "outputId": "2835d291-5db3-44e2-af82-eac618d6e3b0"
      },
      "execution_count": 9,
      "outputs": [
        {
          "output_type": "stream",
          "name": "stdout",
          "text": [
            "------------------------------------------------------------------------------------\n",
            "MODELO\n",
            "------------------------------------------------------------------------------------\n",
            "SimpleRNN(\n",
            "  (rnn): RNN(3, 4, batch_first=True)\n",
            ")\n",
            "------------------------------------------------------------------------------------\n",
            "PARAMETROS DEL MODELO\n",
            "------------------------------------------------------------------------------------\n",
            "Nombre del parámetro: \n",
            "rnn.weight_ih_l0\n",
            "Tamaño del parámetro: \n",
            "torch.Size([4, 3])\n",
            "\n",
            "Nombre del parámetro: \n",
            "rnn.weight_hh_l0\n",
            "Tamaño del parámetro: \n",
            "torch.Size([4, 4])\n",
            "\n",
            "Nombre del parámetro: \n",
            "rnn.bias_ih_l0\n",
            "Tamaño del parámetro: \n",
            "torch.Size([4])\n",
            "\n",
            "Nombre del parámetro: \n",
            "rnn.bias_hh_l0\n",
            "Tamaño del parámetro: \n",
            "torch.Size([4])\n",
            "\n",
            "------------------------------------------------------------------------------------\n",
            "ENTRADA\n",
            "------------------------------------------------------------------------------------\n",
            "entrada shape:  torch.Size([5, 3])\n",
            "tensor([[0.4646, 0.2576, 0.0091],\n",
            "        [0.9353, 0.7905, 0.7721],\n",
            "        [0.5039, 0.2781, 0.8285],\n",
            "        [0.9606, 0.3729, 0.5888],\n",
            "        [0.2831, 0.2704, 0.6954]])\n",
            "\n",
            "entrada con nuevas dimensiones [batch, Length, nr_features] \n",
            "torch.Size([1, 5, 3])\n",
            "------------------------------------------------------------------------------------\n",
            "SALIDA\n",
            "------------------------------------------------------------------------------------\n",
            "salida de la red (largo igual al input):  torch.Size([1, 5, 4])\n",
            "tensor([[[-0.2797,  0.1951, -0.5547,  0.0642],\n",
            "         [ 0.0280,  0.8101, -0.7722,  0.2758],\n",
            "         [ 0.3810,  0.8361, -0.8101,  0.1786],\n",
            "         [ 0.0737,  0.8844, -0.8058,  0.1968],\n",
            "         [ 0.4087,  0.8030, -0.7946,  0.0421]]], grad_fn=<TransposeBackward1>)\n",
            "\n",
            "hidden red (solo ultimo hidden):  torch.Size([1, 1, 4])\n",
            "tensor([[[ 0.4087,  0.8030, -0.7946,  0.0421]]], grad_fn=<StackBackward0>)\n"
          ]
        }
      ]
    },
    {
      "cell_type": "markdown",
      "source": [
        "### EJERCICIO 1 - Realizar un ejemplo agregando un batch a la input"
      ],
      "metadata": {
        "id": "p4aJT7JTlpe8"
      }
    },
    {
      "cell_type": "code",
      "source": [
        "input_size= 3\n",
        "hidden_size= 4\n",
        "num_layers= 1\n",
        "largo_entrada = 5\n",
        "\n",
        "model = SimpleRNN(input_size, hidden_size, num_layers)\n",
        "teoria(model, largo_entrada)\n"
      ],
      "metadata": {
        "id": "RiWhtWzql0CX",
        "colab": {
          "base_uri": "https://localhost:8080/"
        },
        "outputId": "402e89b1-1858-43d7-9199-7419502ebea2"
      },
      "execution_count": 10,
      "outputs": [
        {
          "output_type": "stream",
          "name": "stdout",
          "text": [
            "------------------------------------------------------------------------------------\n",
            "MODELO\n",
            "------------------------------------------------------------------------------------\n",
            "SimpleRNN(\n",
            "  (rnn): RNN(3, 4, batch_first=True)\n",
            ")\n",
            "------------------------------------------------------------------------------------\n",
            "PARAMETROS DEL MODELO\n",
            "------------------------------------------------------------------------------------\n",
            "Nombre del parámetro: \n",
            "rnn.weight_ih_l0\n",
            "Tamaño del parámetro: \n",
            "torch.Size([4, 3])\n",
            "\n",
            "Nombre del parámetro: \n",
            "rnn.weight_hh_l0\n",
            "Tamaño del parámetro: \n",
            "torch.Size([4, 4])\n",
            "\n",
            "Nombre del parámetro: \n",
            "rnn.bias_ih_l0\n",
            "Tamaño del parámetro: \n",
            "torch.Size([4])\n",
            "\n",
            "Nombre del parámetro: \n",
            "rnn.bias_hh_l0\n",
            "Tamaño del parámetro: \n",
            "torch.Size([4])\n",
            "\n",
            "------------------------------------------------------------------------------------\n",
            "ENTRADA\n",
            "------------------------------------------------------------------------------------\n",
            "entrada shape:  torch.Size([5, 3])\n",
            "tensor([[0.8097, 0.2489, 0.8933],\n",
            "        [0.5661, 0.5463, 0.6088],\n",
            "        [0.1624, 0.7419, 0.9900],\n",
            "        [0.7844, 0.7711, 0.6942],\n",
            "        [0.6326, 0.5975, 0.3398]])\n",
            "\n",
            "entrada con nuevas dimensiones [batch, Length, nr_features] \n",
            "torch.Size([1, 5, 3])\n",
            "------------------------------------------------------------------------------------\n",
            "SALIDA\n",
            "------------------------------------------------------------------------------------\n",
            "salida de la red (largo igual al input):  torch.Size([1, 5, 4])\n",
            "tensor([[[-0.1968,  0.7532, -0.3584, -0.1936],\n",
            "         [-0.2997,  0.7787,  0.0973,  0.0189],\n",
            "         [-0.1189,  0.8068, -0.1041,  0.2483],\n",
            "         [-0.4814,  0.7882,  0.0125, -0.0290],\n",
            "         [-0.3014,  0.6845,  0.2253,  0.0561]]], grad_fn=<TransposeBackward1>)\n",
            "\n",
            "hidden red (solo ultimo hidden):  torch.Size([1, 1, 4])\n",
            "tensor([[[-0.3014,  0.6845,  0.2253,  0.0561]]], grad_fn=<StackBackward0>)\n"
          ]
        }
      ]
    },
    {
      "cell_type": "markdown",
      "source": [
        "### EJERCICIO 2 - Implementar una RNN para clasificación de 5 clases:\n",
        "- `input size = 2`.\n",
        "- `hidden size= 40`.\n",
        "- Agregar una `fully conected` al final con `n_out = nro clases`.\n",
        "- Tomar como `input` el estado final de la rnn.\n",
        "- Agregar por último una `softmax` para leer probabilidades."
      ],
      "metadata": {
        "id": "vDlw7BlynWI6"
      }
    },
    {
      "cell_type": "code",
      "source": [
        "class SimpleRNNconFC(torch.nn.Module):\n",
        "  def __init__(self, input_size=1, hidden_size=1, num_layers=1,output_fc=5):\n",
        "    super().__init__()\n",
        "    self.rnn = torch.nn.RNN(input_size, hidden_size, num_layers, batch_first=True)\n",
        "    self.fc = torch.nn.Linear(hidden_size,output_fc)\n",
        "\n",
        "\n",
        "  def forward(self, x):\n",
        "    x, h = self.rnn(x) \n",
        "    #print(\"shape de salida antes de fc: \",x[:,-1].shape) (1,40)\n",
        "    y = self.fc(x[:,-1])\n",
        "    y = torch.nn.functional.softmax(y, dim=1)\n",
        "    #y = self.conv11_out.view(self.conv11_out.shape[0], -1)\n",
        "    return y"
      ],
      "metadata": {
        "id": "PybasXHKmKrO"
      },
      "execution_count": 15,
      "outputs": []
    },
    {
      "cell_type": "code",
      "source": [
        "def teoriaconFC(model, largo_entrada = 5):\n",
        "  print('-'*84)\n",
        "  print('MODELO')\n",
        "  print('-'*84)\n",
        "  print(model)\n",
        "  imp_param(model)\n",
        "\n",
        "  # Generamos una entrada aleatoria para ver como responde la red\n",
        "  # el tamaño de la entrada esa acorde a los tamaños que cargamos antes\n",
        "  entrada = torch.rand(largo_entrada, input_size)\n",
        "  print('-'*84)\n",
        "  print('ENTRADA')\n",
        "  print('-'*84)\n",
        "  print('entrada shape: ', entrada.shape)\n",
        "  print(entrada)\n",
        "  # le agrego la dimension del batch:\n",
        "  entrada = entrada[None, :]\n",
        "  print()\n",
        "  print('entrada con nuevas dimensiones [batch, Length, nr_features] ')\n",
        "  print(entrada.shape)\n",
        "\n",
        "  # Pasamos la entrada a la red\n",
        "  o = model(entrada)\n",
        "  print('-'*84)\n",
        "  print('SALIDA')\n",
        "  print('-'*84)\n",
        "  print('salida de la red luego de fully connected : ', o.shape)\n",
        "  print(o)\n"
      ],
      "metadata": {
        "id": "7OCSztBkBGSd"
      },
      "execution_count": 13,
      "outputs": []
    },
    {
      "cell_type": "code",
      "source": [
        "input_size= 2\n",
        "hidden_size= 40\n",
        "num_layers= 1\n",
        "largo_entrada = 5\n",
        "\n",
        "model = SimpleRNNconFC(input_size, hidden_size, num_layers)\n",
        "teoriaconFC(model, largo_entrada)"
      ],
      "metadata": {
        "colab": {
          "base_uri": "https://localhost:8080/"
        },
        "id": "kXvL7tOiA63l",
        "outputId": "d82e1cf1-e706-4c7e-c590-54c48e62e069"
      },
      "execution_count": 16,
      "outputs": [
        {
          "output_type": "stream",
          "name": "stdout",
          "text": [
            "------------------------------------------------------------------------------------\n",
            "MODELO\n",
            "------------------------------------------------------------------------------------\n",
            "SimpleRNNconFC(\n",
            "  (rnn): RNN(2, 40, batch_first=True)\n",
            "  (fc): Linear(in_features=40, out_features=5, bias=True)\n",
            ")\n",
            "------------------------------------------------------------------------------------\n",
            "PARAMETROS DEL MODELO\n",
            "------------------------------------------------------------------------------------\n",
            "Nombre del parámetro: \n",
            "rnn.weight_ih_l0\n",
            "Tamaño del parámetro: \n",
            "torch.Size([40, 2])\n",
            "\n",
            "Nombre del parámetro: \n",
            "rnn.weight_hh_l0\n",
            "Tamaño del parámetro: \n",
            "torch.Size([40, 40])\n",
            "\n",
            "Nombre del parámetro: \n",
            "rnn.bias_ih_l0\n",
            "Tamaño del parámetro: \n",
            "torch.Size([40])\n",
            "\n",
            "Nombre del parámetro: \n",
            "rnn.bias_hh_l0\n",
            "Tamaño del parámetro: \n",
            "torch.Size([40])\n",
            "\n",
            "Nombre del parámetro: \n",
            "fc.weight\n",
            "Tamaño del parámetro: \n",
            "torch.Size([5, 40])\n",
            "\n",
            "Nombre del parámetro: \n",
            "fc.bias\n",
            "Tamaño del parámetro: \n",
            "torch.Size([5])\n",
            "\n",
            "------------------------------------------------------------------------------------\n",
            "ENTRADA\n",
            "------------------------------------------------------------------------------------\n",
            "entrada shape:  torch.Size([5, 2])\n",
            "tensor([[0.2961, 0.3717],\n",
            "        [0.7096, 0.4175],\n",
            "        [0.9367, 0.7921],\n",
            "        [0.6270, 0.0095],\n",
            "        [0.1790, 0.2606]])\n",
            "\n",
            "entrada con nuevas dimensiones [batch, Length, nr_features] \n",
            "torch.Size([1, 5, 2])\n",
            "shape de salida antes de fc:  torch.Size([1, 40])\n",
            "------------------------------------------------------------------------------------\n",
            "SALIDA\n",
            "------------------------------------------------------------------------------------\n",
            "salida de la red luego de fully connected :  torch.Size([1, 5])\n",
            "tensor([[0.1972, 0.2337, 0.1658, 0.1917, 0.2117]], grad_fn=<SoftmaxBackward0>)\n"
          ]
        }
      ]
    }
  ]
}